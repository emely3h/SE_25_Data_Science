{
 "cells": [
  {
   "cell_type": "markdown",
   "id": "3d75f673",
   "metadata": {},
   "source": [
    "# Debugging Exercise: Population Growth\n",
    "We want to plot the population growth of a few selected countries.\n",
    "\n",
    "The CSV file contains the population in millions.\n",
    "\n",
    "**Fix five bugs in the analysis.**"
   ]
  },
  {
   "cell_type": "code",
   "execution_count": 2,
   "id": "8e0e6db0",
   "metadata": {},
   "outputs": [],
   "source": [
    "import pandas as pd"
   ]
  },
  {
   "cell_type": "code",
   "execution_count": 16,
   "id": "f3f961ee",
   "metadata": {},
   "outputs": [],
   "source": [
    "df = pd.read_csv('population.csv', sep=';')\n",
    "#df.head()\n"
   ]
  },
  {
   "cell_type": "code",
   "execution_count": 17,
   "id": "7bc3e772",
   "metadata": {},
   "outputs": [],
   "source": [
    "# drop empty column\n",
    "#del df[1949]"
   ]
  },
  {
   "cell_type": "code",
   "execution_count": 18,
   "id": "0d664434",
   "metadata": {},
   "outputs": [],
   "source": [
    "# drop rows with missing data\n",
    "#df.dropna(inplace=True) # could also do interpolation (imputation)\n",
    "# df.head()"
   ]
  },
  {
   "cell_type": "code",
   "execution_count": 21,
   "id": "6be6af39",
   "metadata": {},
   "outputs": [],
   "source": [
    "#df = df.set_index('country', inplace=True)\n",
    "#df.head()"
   ]
  },
  {
   "cell_type": "code",
   "execution_count": 22,
   "id": "33b9a2f5",
   "metadata": {},
   "outputs": [
    {
     "ename": "SyntaxError",
     "evalue": "invalid syntax (2775722534.py, line 2)",
     "output_type": "error",
     "traceback": [
      "\u001b[0;36m  Input \u001b[0;32mIn [22]\u001b[0;36m\u001b[0m\n\u001b[0;31m    countries\u001b[0m\n\u001b[0m    ^\u001b[0m\n\u001b[0;31mSyntaxError\u001b[0m\u001b[0;31m:\u001b[0m invalid syntax\n"
     ]
    }
   ],
   "source": [
    "countries = df.loc[['Argentina', 'Ukraine', 'Vietnam', 'Zimbabwe']\n",
    "countries"
   ]
  },
  {
   "cell_type": "code",
   "execution_count": null,
   "id": "2bd43970",
   "metadata": {},
   "outputs": [],
   "source": [
    "# tilt the table by 90°\n",
    "timeline = countries.transpose()\n",
    "timeline.head()"
   ]
  },
  {
   "cell_type": "code",
   "execution_count": null,
   "id": "eea6ba49",
   "metadata": {},
   "outputs": [],
   "source": [
    "# fix x achis scaling => convert int to datetime, pandas scales properly\n",
    "timeline.index = pd.to_datetime(timeline.index)"
   ]
  },
  {
   "cell_type": "code",
   "execution_count": null,
   "id": "ada32d66",
   "metadata": {},
   "outputs": [],
   "source": [
    "# why is this a terrible plot?\n",
    "timeline.plot()"
   ]
  }
 ],
 "metadata": {
  "kernelspec": {
   "display_name": "Python 3 (ipykernel)",
   "language": "python",
   "name": "python3"
  },
  "language_info": {
   "codemirror_mode": {
    "name": "ipython",
    "version": 3
   },
   "file_extension": ".py",
   "mimetype": "text/x-python",
   "name": "python",
   "nbconvert_exporter": "python",
   "pygments_lexer": "ipython3",
   "version": "3.8.10"
  },
  "vscode": {
   "interpreter": {
    "hash": "ff6a526db7539c5ee81b1019e9eb33ce309b452889c83c93889f9b5f56a0f635"
   }
  }
 },
 "nbformat": 4,
 "nbformat_minor": 5
}
