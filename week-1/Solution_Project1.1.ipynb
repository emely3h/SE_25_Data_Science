{
 "cells": [
  {
   "cell_type": "markdown",
   "id": "96680a11",
   "metadata": {},
   "source": [
    "# Read Baby Name Data\n",
    "\n",
    "#### Sample Solution for Project 1.1"
   ]
  },
  {
   "cell_type": "code",
   "execution_count": 1,
   "id": "9aeb2a3e",
   "metadata": {},
   "outputs": [],
   "source": [
    "import pandas as pd"
   ]
  },
  {
   "cell_type": "markdown",
   "id": "bf7722a1",
   "metadata": {},
   "source": [
    "### Task 1\n",
    "\n",
    "Inspect the file yob2021.txt in a text editor. What do you observe about the structure of the file?\n",
    "\n",
    "*A: 3 columns, commas as separators, no headers, no obvious problems.*"
   ]
  },
  {
   "cell_type": "markdown",
   "id": "e9d92b4b",
   "metadata": {},
   "source": [
    "### Task 2\n",
    "\n",
    "Read the file `yob2021.txt` into pandas."
   ]
  },
  {
   "cell_type": "code",
   "execution_count": 2,
   "id": "09e8a376",
   "metadata": {},
   "outputs": [],
   "source": [
    "df = pd.read_csv('data/yob2021.txt', names=['name', 'gender', 'count'])"
   ]
  },
  {
   "cell_type": "markdown",
   "id": "ab10d953",
   "metadata": {},
   "source": [
    "### Task 3\n",
    "\n",
    "Print the first 10 rows."
   ]
  },
  {
   "cell_type": "code",
   "execution_count": 3,
   "id": "d1aea2ac",
   "metadata": {},
   "outputs": [
    {
     "data": {
      "text/html": [
       "<div>\n",
       "<style scoped>\n",
       "    .dataframe tbody tr th:only-of-type {\n",
       "        vertical-align: middle;\n",
       "    }\n",
       "\n",
       "    .dataframe tbody tr th {\n",
       "        vertical-align: top;\n",
       "    }\n",
       "\n",
       "    .dataframe thead th {\n",
       "        text-align: right;\n",
       "    }\n",
       "</style>\n",
       "<table border=\"1\" class=\"dataframe\">\n",
       "  <thead>\n",
       "    <tr style=\"text-align: right;\">\n",
       "      <th></th>\n",
       "      <th>name</th>\n",
       "      <th>gender</th>\n",
       "      <th>count</th>\n",
       "    </tr>\n",
       "  </thead>\n",
       "  <tbody>\n",
       "    <tr>\n",
       "      <th>0</th>\n",
       "      <td>Olivia</td>\n",
       "      <td>F</td>\n",
       "      <td>17728</td>\n",
       "    </tr>\n",
       "    <tr>\n",
       "      <th>1</th>\n",
       "      <td>Emma</td>\n",
       "      <td>F</td>\n",
       "      <td>15433</td>\n",
       "    </tr>\n",
       "    <tr>\n",
       "      <th>2</th>\n",
       "      <td>Charlotte</td>\n",
       "      <td>F</td>\n",
       "      <td>13285</td>\n",
       "    </tr>\n",
       "    <tr>\n",
       "      <th>3</th>\n",
       "      <td>Amelia</td>\n",
       "      <td>F</td>\n",
       "      <td>12952</td>\n",
       "    </tr>\n",
       "    <tr>\n",
       "      <th>4</th>\n",
       "      <td>Ava</td>\n",
       "      <td>F</td>\n",
       "      <td>12759</td>\n",
       "    </tr>\n",
       "  </tbody>\n",
       "</table>\n",
       "</div>"
      ],
      "text/plain": [
       "        name gender  count\n",
       "0     Olivia      F  17728\n",
       "1       Emma      F  15433\n",
       "2  Charlotte      F  13285\n",
       "3     Amelia      F  12952\n",
       "4        Ava      F  12759"
      ]
     },
     "execution_count": 3,
     "metadata": {},
     "output_type": "execute_result"
    }
   ],
   "source": [
    "df.head()"
   ]
  },
  {
   "cell_type": "markdown",
   "id": "738d7e48",
   "metadata": {},
   "source": [
    "### Task 4\n",
    "\n",
    "Display the number of rows and columns."
   ]
  },
  {
   "cell_type": "code",
   "execution_count": 4,
   "id": "8a691107",
   "metadata": {},
   "outputs": [
    {
     "data": {
      "text/plain": [
       "(31537, 3)"
      ]
     },
     "execution_count": 4,
     "metadata": {},
     "output_type": "execute_result"
    }
   ],
   "source": [
    "df.shape"
   ]
  },
  {
   "cell_type": "markdown",
   "id": "dab8a08a",
   "metadata": {},
   "source": [
    "### Task 5\n",
    "\n",
    "Calculate the total number of babies born in 2021, i.e. the sum of the third column."
   ]
  },
  {
   "cell_type": "code",
   "execution_count": 5,
   "id": "429405ab",
   "metadata": {},
   "outputs": [
    {
     "data": {
      "text/plain": [
       "3361375"
      ]
     },
     "execution_count": 5,
     "metadata": {},
     "output_type": "execute_result"
    }
   ],
   "source": [
    "# using a variable, because we will use it later\n",
    "total = df['count'].sum()\n",
    "total"
   ]
  },
  {
   "cell_type": "markdown",
   "id": "71ed7e28",
   "metadata": {},
   "source": [
    "### Task 6\n",
    "\n",
    "Like Task 5, but calculate the sum for boys and girls separately."
   ]
  },
  {
   "cell_type": "code",
   "execution_count": 6,
   "id": "bdd86812",
   "metadata": {},
   "outputs": [
    {
     "data": {
      "text/plain": [
       "gender\n",
       "F    1627098\n",
       "M    1734277\n",
       "Name: count, dtype: int64"
      ]
     },
     "execution_count": 6,
     "metadata": {},
     "output_type": "execute_result"
    }
   ],
   "source": [
    "df.groupby('gender')['count'].sum()"
   ]
  },
  {
   "cell_type": "markdown",
   "id": "e1caafb8",
   "metadata": {},
   "source": [
    "### Task 7\n",
    "\n",
    "Check if your name occurs in the data."
   ]
  },
  {
   "cell_type": "code",
   "execution_count": 7,
   "id": "09ef645d",
   "metadata": {},
   "outputs": [],
   "source": [
    "# now the name in the index becomes helpful\n",
    "df.set_index('name', inplace=True)"
   ]
  },
  {
   "cell_type": "code",
   "execution_count": 8,
   "id": "ed5b6183",
   "metadata": {},
   "outputs": [
    {
     "data": {
      "text/html": [
       "<div>\n",
       "<style scoped>\n",
       "    .dataframe tbody tr th:only-of-type {\n",
       "        vertical-align: middle;\n",
       "    }\n",
       "\n",
       "    .dataframe tbody tr th {\n",
       "        vertical-align: top;\n",
       "    }\n",
       "\n",
       "    .dataframe thead th {\n",
       "        text-align: right;\n",
       "    }\n",
       "</style>\n",
       "<table border=\"1\" class=\"dataframe\">\n",
       "  <thead>\n",
       "    <tr style=\"text-align: right;\">\n",
       "      <th></th>\n",
       "      <th>gender</th>\n",
       "      <th>count</th>\n",
       "    </tr>\n",
       "    <tr>\n",
       "      <th>name</th>\n",
       "      <th></th>\n",
       "      <th></th>\n",
       "    </tr>\n",
       "  </thead>\n",
       "  <tbody>\n",
       "    <tr>\n",
       "      <th>Kristian</th>\n",
       "      <td>F</td>\n",
       "      <td>15</td>\n",
       "    </tr>\n",
       "    <tr>\n",
       "      <th>Kristian</th>\n",
       "      <td>M</td>\n",
       "      <td>251</td>\n",
       "    </tr>\n",
       "  </tbody>\n",
       "</table>\n",
       "</div>"
      ],
      "text/plain": [
       "         gender  count\n",
       "name                  \n",
       "Kristian      F     15\n",
       "Kristian      M    251"
      ]
     },
     "execution_count": 8,
     "metadata": {},
     "output_type": "execute_result"
    }
   ],
   "source": [
    "# here is how I would do it\n",
    "df.loc['Kristian']"
   ]
  },
  {
   "cell_type": "code",
   "execution_count": 9,
   "id": "a93d6587",
   "metadata": {},
   "outputs": [
    {
     "data": {
      "text/html": [
       "<div>\n",
       "<style scoped>\n",
       "    .dataframe tbody tr th:only-of-type {\n",
       "        vertical-align: middle;\n",
       "    }\n",
       "\n",
       "    .dataframe tbody tr th {\n",
       "        vertical-align: top;\n",
       "    }\n",
       "\n",
       "    .dataframe thead th {\n",
       "        text-align: right;\n",
       "    }\n",
       "</style>\n",
       "<table border=\"1\" class=\"dataframe\">\n",
       "  <thead>\n",
       "    <tr style=\"text-align: right;\">\n",
       "      <th></th>\n",
       "      <th>gender</th>\n",
       "      <th>count</th>\n",
       "    </tr>\n",
       "    <tr>\n",
       "      <th>name</th>\n",
       "      <th></th>\n",
       "      <th></th>\n",
       "    </tr>\n",
       "  </thead>\n",
       "  <tbody>\n",
       "    <tr>\n",
       "      <th>Kristina</th>\n",
       "      <td>F</td>\n",
       "      <td>170</td>\n",
       "    </tr>\n",
       "    <tr>\n",
       "      <th>Kristine</th>\n",
       "      <td>F</td>\n",
       "      <td>54</td>\n",
       "    </tr>\n",
       "    <tr>\n",
       "      <th>Kristian</th>\n",
       "      <td>F</td>\n",
       "      <td>15</td>\n",
       "    </tr>\n",
       "    <tr>\n",
       "      <th>Krystina</th>\n",
       "      <td>F</td>\n",
       "      <td>8</td>\n",
       "    </tr>\n",
       "    <tr>\n",
       "      <th>Kristian</th>\n",
       "      <td>M</td>\n",
       "      <td>251</td>\n",
       "    </tr>\n",
       "    <tr>\n",
       "      <th>Krystian</th>\n",
       "      <td>M</td>\n",
       "      <td>23</td>\n",
       "    </tr>\n",
       "  </tbody>\n",
       "</table>\n",
       "</div>"
      ],
      "text/plain": [
       "         gender  count\n",
       "name                  \n",
       "Kristina      F    170\n",
       "Kristine      F     54\n",
       "Kristian      F     15\n",
       "Krystina      F      8\n",
       "Kristian      M    251\n",
       "Krystian      M     23"
      ]
     },
     "execution_count": 9,
     "metadata": {},
     "output_type": "execute_result"
    }
   ],
   "source": [
    "# found with a student. The regex is super useful to check for variants.\n",
    "# ^ and $ are necessary to limit the string, axis=0 searches row indices\n",
    "df.filter(regex='^Kr[iy]sti.{2}$', axis=0)"
   ]
  },
  {
   "cell_type": "markdown",
   "id": "9d804cc8",
   "metadata": {},
   "source": [
    "### Task 8\n",
    "\n",
    "Calculate the percentage of girls and boys among the total births."
   ]
  },
  {
   "cell_type": "code",
   "execution_count": 10,
   "id": "ef05d207",
   "metadata": {},
   "outputs": [
    {
     "data": {
      "text/html": [
       "<div>\n",
       "<style scoped>\n",
       "    .dataframe tbody tr th:only-of-type {\n",
       "        vertical-align: middle;\n",
       "    }\n",
       "\n",
       "    .dataframe tbody tr th {\n",
       "        vertical-align: top;\n",
       "    }\n",
       "\n",
       "    .dataframe thead th {\n",
       "        text-align: right;\n",
       "    }\n",
       "</style>\n",
       "<table border=\"1\" class=\"dataframe\">\n",
       "  <thead>\n",
       "    <tr style=\"text-align: right;\">\n",
       "      <th></th>\n",
       "      <th>count</th>\n",
       "    </tr>\n",
       "    <tr>\n",
       "      <th>gender</th>\n",
       "      <th></th>\n",
       "    </tr>\n",
       "  </thead>\n",
       "  <tbody>\n",
       "    <tr>\n",
       "      <th>F</th>\n",
       "      <td>48.41</td>\n",
       "    </tr>\n",
       "    <tr>\n",
       "      <th>M</th>\n",
       "      <td>51.59</td>\n",
       "    </tr>\n",
       "  </tbody>\n",
       "</table>\n",
       "</div>"
      ],
      "text/plain": [
       "        count\n",
       "gender       \n",
       "F       48.41\n",
       "M       51.59"
      ]
     },
     "execution_count": 10,
     "metadata": {},
     "output_type": "execute_result"
    }
   ],
   "source": [
    "(df.groupby('gender').sum() / total * 100).round(2)"
   ]
  },
  {
   "cell_type": "markdown",
   "id": "ab2653f9",
   "metadata": {},
   "source": [
    "### Task 9\n",
    "\n",
    "Create a table that contains the top 5 girls names and top 5 boys names."
   ]
  },
  {
   "cell_type": "code",
   "execution_count": 11,
   "id": "d7d2f2e0",
   "metadata": {},
   "outputs": [
    {
     "data": {
      "text/html": [
       "<div>\n",
       "<style scoped>\n",
       "    .dataframe tbody tr th:only-of-type {\n",
       "        vertical-align: middle;\n",
       "    }\n",
       "\n",
       "    .dataframe tbody tr th {\n",
       "        vertical-align: top;\n",
       "    }\n",
       "\n",
       "    .dataframe thead th {\n",
       "        text-align: right;\n",
       "    }\n",
       "</style>\n",
       "<table border=\"1\" class=\"dataframe\">\n",
       "  <thead>\n",
       "    <tr style=\"text-align: right;\">\n",
       "      <th></th>\n",
       "      <th>gender</th>\n",
       "      <th>count</th>\n",
       "    </tr>\n",
       "    <tr>\n",
       "      <th>name</th>\n",
       "      <th></th>\n",
       "      <th></th>\n",
       "    </tr>\n",
       "  </thead>\n",
       "  <tbody>\n",
       "    <tr>\n",
       "      <th>Olivia</th>\n",
       "      <td>F</td>\n",
       "      <td>17728</td>\n",
       "    </tr>\n",
       "    <tr>\n",
       "      <th>Emma</th>\n",
       "      <td>F</td>\n",
       "      <td>15433</td>\n",
       "    </tr>\n",
       "    <tr>\n",
       "      <th>Charlotte</th>\n",
       "      <td>F</td>\n",
       "      <td>13285</td>\n",
       "    </tr>\n",
       "    <tr>\n",
       "      <th>Amelia</th>\n",
       "      <td>F</td>\n",
       "      <td>12952</td>\n",
       "    </tr>\n",
       "    <tr>\n",
       "      <th>Ava</th>\n",
       "      <td>F</td>\n",
       "      <td>12759</td>\n",
       "    </tr>\n",
       "    <tr>\n",
       "      <th>Liam</th>\n",
       "      <td>M</td>\n",
       "      <td>20272</td>\n",
       "    </tr>\n",
       "    <tr>\n",
       "      <th>Noah</th>\n",
       "      <td>M</td>\n",
       "      <td>18739</td>\n",
       "    </tr>\n",
       "    <tr>\n",
       "      <th>Oliver</th>\n",
       "      <td>M</td>\n",
       "      <td>14616</td>\n",
       "    </tr>\n",
       "    <tr>\n",
       "      <th>Elijah</th>\n",
       "      <td>M</td>\n",
       "      <td>12708</td>\n",
       "    </tr>\n",
       "    <tr>\n",
       "      <th>James</th>\n",
       "      <td>M</td>\n",
       "      <td>12367</td>\n",
       "    </tr>\n",
       "  </tbody>\n",
       "</table>\n",
       "</div>"
      ],
      "text/plain": [
       "          gender  count\n",
       "name                   \n",
       "Olivia         F  17728\n",
       "Emma           F  15433\n",
       "Charlotte      F  13285\n",
       "Amelia         F  12952\n",
       "Ava            F  12759\n",
       "Liam           M  20272\n",
       "Noah           M  18739\n",
       "Oliver         M  14616\n",
       "Elijah         M  12708\n",
       "James          M  12367"
      ]
     },
     "execution_count": 11,
     "metadata": {},
     "output_type": "execute_result"
    }
   ],
   "source": [
    "# my own short solution\n",
    "result = df.groupby('gender').head(5)\n",
    "result"
   ]
  },
  {
   "cell_type": "markdown",
   "id": "cb986a12",
   "metadata": {},
   "source": [
    "### Task 10\n",
    "\n",
    "Write the data from task 9 to an Excel spreadsheet."
   ]
  },
  {
   "cell_type": "code",
   "execution_count": 12,
   "id": "ba37238d",
   "metadata": {},
   "outputs": [],
   "source": [
    "result.to_excel('result_project1.1.xlsx')"
   ]
  },
  {
   "cell_type": "code",
   "execution_count": 13,
   "id": "0ed02faf",
   "metadata": {},
   "outputs": [],
   "source": [
    "# re-ran notebook to check whether everything still works and to reset line numbers"
   ]
  }
 ],
 "metadata": {
  "kernelspec": {
   "display_name": "Python 3",
   "language": "python",
   "name": "python3"
  },
  "language_info": {
   "codemirror_mode": {
    "name": "ipython",
    "version": 3
   },
   "file_extension": ".py",
   "mimetype": "text/x-python",
   "name": "python",
   "nbconvert_exporter": "python",
   "pygments_lexer": "ipython3",
   "version": "3.8.10"
  }
 },
 "nbformat": 4,
 "nbformat_minor": 5
}
