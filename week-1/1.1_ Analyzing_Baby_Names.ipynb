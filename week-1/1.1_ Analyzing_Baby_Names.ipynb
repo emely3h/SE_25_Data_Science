{
 "cells": [
  {
   "cell_type": "code",
   "execution_count": 4,
   "id": "2c92d539-ce22-4132-8b3e-1ed4a47545bc",
   "metadata": {},
   "outputs": [
    {
     "data": {
      "text/plain": [
       "'/home/hee3be/Dev/data-science'"
      ]
     },
     "execution_count": 4,
     "metadata": {},
     "output_type": "execute_result"
    }
   ],
   "source": [
    "import pandas as pd\n",
    "import os\n",
    "\n",
    "pd.__version__\n",
    "os.getcwd()"
   ]
  },
  {
   "cell_type": "code",
   "execution_count": 2,
   "id": "a8ba0b7f-a1f5-4e67-a3a5-48347348d318",
   "metadata": {},
   "outputs": [],
   "source": [
    "df = pd.read_csv('names/yob2021.txt', names=['Name', 'Sex', 'Number'])"
   ]
  },
  {
   "cell_type": "code",
   "execution_count": 5,
   "id": "adaa586e-6eac-411e-b80b-f568765aca2e",
   "metadata": {
    "jupyter": {
     "outputs_hidden": true
    },
    "tags": []
   },
   "outputs": [
    {
     "data": {
      "text/html": [
       "<div>\n",
       "<style scoped>\n",
       "    .dataframe tbody tr th:only-of-type {\n",
       "        vertical-align: middle;\n",
       "    }\n",
       "\n",
       "    .dataframe tbody tr th {\n",
       "        vertical-align: top;\n",
       "    }\n",
       "\n",
       "    .dataframe thead th {\n",
       "        text-align: right;\n",
       "    }\n",
       "</style>\n",
       "<table border=\"1\" class=\"dataframe\">\n",
       "  <thead>\n",
       "    <tr style=\"text-align: right;\">\n",
       "      <th></th>\n",
       "      <th>Name</th>\n",
       "      <th>Sex</th>\n",
       "      <th>Number</th>\n",
       "    </tr>\n",
       "  </thead>\n",
       "  <tbody>\n",
       "    <tr>\n",
       "      <th>0</th>\n",
       "      <td>Olivia</td>\n",
       "      <td>F</td>\n",
       "      <td>17728</td>\n",
       "    </tr>\n",
       "    <tr>\n",
       "      <th>1</th>\n",
       "      <td>Emma</td>\n",
       "      <td>F</td>\n",
       "      <td>15433</td>\n",
       "    </tr>\n",
       "    <tr>\n",
       "      <th>2</th>\n",
       "      <td>Charlotte</td>\n",
       "      <td>F</td>\n",
       "      <td>13285</td>\n",
       "    </tr>\n",
       "    <tr>\n",
       "      <th>3</th>\n",
       "      <td>Amelia</td>\n",
       "      <td>F</td>\n",
       "      <td>12952</td>\n",
       "    </tr>\n",
       "    <tr>\n",
       "      <th>4</th>\n",
       "      <td>Ava</td>\n",
       "      <td>F</td>\n",
       "      <td>12759</td>\n",
       "    </tr>\n",
       "  </tbody>\n",
       "</table>\n",
       "</div>"
      ],
      "text/plain": [
       "        Name Sex  Number\n",
       "0     Olivia   F   17728\n",
       "1       Emma   F   15433\n",
       "2  Charlotte   F   13285\n",
       "3     Amelia   F   12952\n",
       "4        Ava   F   12759"
      ]
     },
     "execution_count": 5,
     "metadata": {},
     "output_type": "execute_result"
    }
   ],
   "source": [
    "df.head()"
   ]
  },
  {
   "cell_type": "code",
   "execution_count": null,
   "id": "bbd939a5",
   "metadata": {},
   "outputs": [],
   "source": [
    "# put name column in index for easier search later\n",
    "# df.setIndex('Name', inplace = true)\n",
    "# df.groupby('Gender').sum() / total *100 "
   ]
  },
  {
   "cell_type": "code",
   "execution_count": 6,
   "id": "c4dfc652-f30d-4422-93ac-0a3dacfb169d",
   "metadata": {
    "tags": []
   },
   "outputs": [
    {
     "data": {
      "text/html": [
       "<div>\n",
       "<style scoped>\n",
       "    .dataframe tbody tr th:only-of-type {\n",
       "        vertical-align: middle;\n",
       "    }\n",
       "\n",
       "    .dataframe tbody tr th {\n",
       "        vertical-align: top;\n",
       "    }\n",
       "\n",
       "    .dataframe thead th {\n",
       "        text-align: right;\n",
       "    }\n",
       "</style>\n",
       "<table border=\"1\" class=\"dataframe\">\n",
       "  <thead>\n",
       "    <tr style=\"text-align: right;\">\n",
       "      <th></th>\n",
       "      <th>Name</th>\n",
       "      <th>Sex</th>\n",
       "      <th>Number</th>\n",
       "    </tr>\n",
       "  </thead>\n",
       "  <tbody>\n",
       "    <tr>\n",
       "      <th>0</th>\n",
       "      <td>Olivia</td>\n",
       "      <td>F</td>\n",
       "      <td>17728</td>\n",
       "    </tr>\n",
       "    <tr>\n",
       "      <th>1</th>\n",
       "      <td>Emma</td>\n",
       "      <td>F</td>\n",
       "      <td>15433</td>\n",
       "    </tr>\n",
       "    <tr>\n",
       "      <th>2</th>\n",
       "      <td>Charlotte</td>\n",
       "      <td>F</td>\n",
       "      <td>13285</td>\n",
       "    </tr>\n",
       "    <tr>\n",
       "      <th>3</th>\n",
       "      <td>Amelia</td>\n",
       "      <td>F</td>\n",
       "      <td>12952</td>\n",
       "    </tr>\n",
       "    <tr>\n",
       "      <th>4</th>\n",
       "      <td>Ava</td>\n",
       "      <td>F</td>\n",
       "      <td>12759</td>\n",
       "    </tr>\n",
       "    <tr>\n",
       "      <th>5</th>\n",
       "      <td>Sophia</td>\n",
       "      <td>F</td>\n",
       "      <td>12496</td>\n",
       "    </tr>\n",
       "    <tr>\n",
       "      <th>6</th>\n",
       "      <td>Isabella</td>\n",
       "      <td>F</td>\n",
       "      <td>11201</td>\n",
       "    </tr>\n",
       "    <tr>\n",
       "      <th>7</th>\n",
       "      <td>Mia</td>\n",
       "      <td>F</td>\n",
       "      <td>11096</td>\n",
       "    </tr>\n",
       "    <tr>\n",
       "      <th>8</th>\n",
       "      <td>Evelyn</td>\n",
       "      <td>F</td>\n",
       "      <td>9434</td>\n",
       "    </tr>\n",
       "    <tr>\n",
       "      <th>9</th>\n",
       "      <td>Harper</td>\n",
       "      <td>F</td>\n",
       "      <td>8388</td>\n",
       "    </tr>\n",
       "  </tbody>\n",
       "</table>\n",
       "</div>"
      ],
      "text/plain": [
       "        Name Sex  Number\n",
       "0     Olivia   F   17728\n",
       "1       Emma   F   15433\n",
       "2  Charlotte   F   13285\n",
       "3     Amelia   F   12952\n",
       "4        Ava   F   12759\n",
       "5     Sophia   F   12496\n",
       "6   Isabella   F   11201\n",
       "7        Mia   F   11096\n",
       "8     Evelyn   F    9434\n",
       "9     Harper   F    8388"
      ]
     },
     "execution_count": 6,
     "metadata": {},
     "output_type": "execute_result"
    }
   ],
   "source": [
    "df[0:10]"
   ]
  },
  {
   "cell_type": "code",
   "execution_count": 8,
   "id": "671513d1-c217-404c-bafa-28a7b1d623c3",
   "metadata": {},
   "outputs": [
    {
     "name": "stdout",
     "output_type": "stream",
     "text": [
      "Columns: \n"
     ]
    },
    {
     "data": {
      "text/plain": [
       "3"
      ]
     },
     "execution_count": 8,
     "metadata": {},
     "output_type": "execute_result"
    }
   ],
   "source": [
    "print('Columns: ')\n",
    "len(df.columns)"
   ]
  },
  {
   "cell_type": "code",
   "execution_count": 9,
   "id": "9a4fec6b-01ce-47e8-a235-45b486f538ef",
   "metadata": {
    "tags": []
   },
   "outputs": [
    {
     "name": "stdout",
     "output_type": "stream",
     "text": [
      "Rows: \n"
     ]
    },
    {
     "data": {
      "text/plain": [
       "31537"
      ]
     },
     "execution_count": 9,
     "metadata": {},
     "output_type": "execute_result"
    }
   ],
   "source": [
    "print('Rows: ')\n",
    "len(df.index)"
   ]
  },
  {
   "cell_type": "code",
   "execution_count": 21,
   "id": "6aa52711-2327-4336-a980-fecd4b5c734a",
   "metadata": {},
   "outputs": [
    {
     "ename": "SyntaxError",
     "evalue": "invalid syntax (1715599284.py, line 3)",
     "output_type": "error",
     "traceback": [
      "\u001b[0;36m  Input \u001b[0;32mIn [21]\u001b[0;36m\u001b[0m\n\u001b[0;31m    df.loc[[3:7]]\u001b[0m\n\u001b[0m             ^\u001b[0m\n\u001b[0;31mSyntaxError\u001b[0m\u001b[0;31m:\u001b[0m invalid syntax\n"
     ]
    }
   ],
   "source": [
    "print('total number of babies born in 2021:')\n",
    "df['Number'].sum()\n",
    "df.loc[[3:7]]"
   ]
  },
  {
   "cell_type": "code",
   "execution_count": 25,
   "id": "69952432-18f5-4846-9898-2ad0c191cf8c",
   "metadata": {
    "tags": []
   },
   "outputs": [
    {
     "name": "stdout",
     "output_type": "stream",
     "text": [
      "total number of boys born in 2021:\n"
     ]
    },
    {
     "data": {
      "text/plain": [
       "1734277"
      ]
     },
     "execution_count": 25,
     "metadata": {},
     "output_type": "execute_result"
    }
   ],
   "source": [
    "print('total number of boys born in 2021:')\n",
    "\n",
    "boys = df.loc[df['Sex'] == 'M']\n",
    "# len(boys.index)\n",
    "boys['Number'].sum()"
   ]
  },
  {
   "cell_type": "code",
   "execution_count": 24,
   "id": "f636c614-a9f5-41a1-acf4-cffa76583038",
   "metadata": {},
   "outputs": [
    {
     "name": "stdout",
     "output_type": "stream",
     "text": [
      "total number of girls born in 2021:\n"
     ]
    },
    {
     "data": {
      "text/plain": [
       "1627098"
      ]
     },
     "execution_count": 24,
     "metadata": {},
     "output_type": "execute_result"
    }
   ],
   "source": [
    "print('total number of girls born in 2021:')\n",
    "girls = df.loc[df['Sex'] == 'F']\n",
    "#len(girls.index)\n",
    "girls['Number'].sum()\n"
   ]
  },
  {
   "cell_type": "code",
   "execution_count": 29,
   "id": "e205874c-e1c9-48d8-95d9-f39f0862bb83",
   "metadata": {},
   "outputs": [
    {
     "data": {
      "text/html": [
       "<div>\n",
       "<style scoped>\n",
       "    .dataframe tbody tr th:only-of-type {\n",
       "        vertical-align: middle;\n",
       "    }\n",
       "\n",
       "    .dataframe tbody tr th {\n",
       "        vertical-align: top;\n",
       "    }\n",
       "\n",
       "    .dataframe thead th {\n",
       "        text-align: right;\n",
       "    }\n",
       "</style>\n",
       "<table border=\"1\" class=\"dataframe\">\n",
       "  <thead>\n",
       "    <tr style=\"text-align: right;\">\n",
       "      <th></th>\n",
       "      <th>Name</th>\n",
       "      <th>Sex</th>\n",
       "      <th>Number</th>\n",
       "    </tr>\n",
       "  </thead>\n",
       "  <tbody>\n",
       "    <tr>\n",
       "      <th>525</th>\n",
       "      <td>Emely</td>\n",
       "      <td>F</td>\n",
       "      <td>583</td>\n",
       "    </tr>\n",
       "  </tbody>\n",
       "</table>\n",
       "</div>"
      ],
      "text/plain": [
       "      Name Sex  Number\n",
       "525  Emely   F     583"
      ]
     },
     "execution_count": 29,
     "metadata": {},
     "output_type": "execute_result"
    }
   ],
   "source": [
    "df.loc[df['Name'] == 'Emely']"
   ]
  },
  {
   "cell_type": "code",
   "execution_count": 31,
   "id": "1db126f7-18a2-432d-a524-f9e344c9ee78",
   "metadata": {},
   "outputs": [
    {
     "name": "stdout",
     "output_type": "stream",
     "text": [
      "Percentage boys:\n"
     ]
    },
    {
     "data": {
      "text/plain": [
       "51.594273176899335"
      ]
     },
     "execution_count": 31,
     "metadata": {},
     "output_type": "execute_result"
    }
   ],
   "source": [
    "print('Percentage boys:')\n",
    "100/3361375*1734277"
   ]
  },
  {
   "cell_type": "code",
   "execution_count": 32,
   "id": "04b34866-442a-44ce-8fa3-7e913f795d9c",
   "metadata": {},
   "outputs": [
    {
     "name": "stdout",
     "output_type": "stream",
     "text": [
      "Percentage girls:\n"
     ]
    },
    {
     "data": {
      "text/plain": [
       "48.405726823100665"
      ]
     },
     "execution_count": 32,
     "metadata": {},
     "output_type": "execute_result"
    }
   ],
   "source": [
    "print('Percentage girls:')\n",
    "100/3361375*1627098"
   ]
  },
  {
   "cell_type": "code",
   "execution_count": 48,
   "id": "0dba5ce3-3482-401e-8437-7c077b7b3d63",
   "metadata": {
    "tags": []
   },
   "outputs": [
    {
     "name": "stdout",
     "output_type": "stream",
     "text": [
      "Top 5 girl names:\n",
      "  Liam\n",
      "  Noah\n",
      "Oliver\n",
      "Elijah\n",
      " James\n"
     ]
    }
   ],
   "source": [
    "print('Top 5 girl names:')\n",
    "boys_sorted = boys.sort_values(by=['Number'], ascending=False)\n",
    "print(boys_sorted[0:5].Name.to_string(index=False))"
   ]
  },
  {
   "cell_type": "code",
   "execution_count": 47,
   "id": "cc270ce4-60de-484a-b242-6102a7735eb3",
   "metadata": {
    "tags": []
   },
   "outputs": [
    {
     "name": "stdout",
     "output_type": "stream",
     "text": [
      "Top 5 boy names:\n",
      "   Olivia\n",
      "     Emma\n",
      "Charlotte\n",
      "   Amelia\n",
      "      Ava\n"
     ]
    }
   ],
   "source": [
    "print('Top 5 boy names:')\n",
    "girls_sorted = girls.sort_values(by=['Number'], ascending=False)\n",
    "print(girls_sorted[0:5].Name.to_string(index=False))"
   ]
  },
  {
   "cell_type": "code",
   "execution_count": 59,
   "id": "cfe50f60-4130-4ead-9b91-7a17510b54f2",
   "metadata": {},
   "outputs": [],
   "source": [
    "frames = [girls_sorted[0:5], boys_sorted[0:5]]\n",
    "result = pd.concat(frames)\n",
    "result.to_excel('output.xlsx',  engine='xlsxwriter')"
   ]
  },
  {
   "cell_type": "code",
   "execution_count": 2,
   "id": "10c3204a-55e3-408c-83be-dd2e348aca68",
   "metadata": {},
   "outputs": [
    {
     "ename": "NameError",
     "evalue": "name 'result' is not defined",
     "output_type": "error",
     "traceback": [
      "\u001b[0;31m---------------------------------------------------------------------------\u001b[0m",
      "\u001b[0;31mNameError\u001b[0m                                 Traceback (most recent call last)",
      "Input \u001b[0;32mIn [2]\u001b[0m, in \u001b[0;36m<cell line: 1>\u001b[0;34m()\u001b[0m\n\u001b[0;32m----> 1\u001b[0m \u001b[43mresult\u001b[49m\u001b[38;5;241m.\u001b[39minfo()\n",
      "\u001b[0;31mNameError\u001b[0m: name 'result' is not defined"
     ]
    }
   ],
   "source": [
    "\n"
   ]
  },
  {
   "cell_type": "code",
   "execution_count": null,
   "id": "a038046c",
   "metadata": {},
   "outputs": [],
   "source": []
  }
 ],
 "metadata": {
  "kernelspec": {
   "display_name": "Python 3 (ipykernel)",
   "language": "python",
   "name": "python3"
  },
  "language_info": {
   "codemirror_mode": {
    "name": "ipython",
    "version": 3
   },
   "file_extension": ".py",
   "mimetype": "text/x-python",
   "name": "python",
   "nbconvert_exporter": "python",
   "pygments_lexer": "ipython3",
   "version": "3.8.10"
  }
 },
 "nbformat": 4,
 "nbformat_minor": 5
}
